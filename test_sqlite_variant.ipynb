{
 "cells": [
  {
   "cell_type": "code",
   "execution_count": 1,
   "metadata": {},
   "outputs": [],
   "source": [
    "\n"
   ]
  },
  {
   "cell_type": "code",
   "execution_count": 1,
   "metadata": {},
   "outputs": [
    {
     "name": "stdout",
     "output_type": "stream",
     "text": [
      "User 'john_doe133' created successfully.\n"
     ]
    },
    {
     "ename": "IntegrityError",
     "evalue": "UNIQUE constraint failed: User.username",
     "output_type": "error",
     "traceback": [
      "\u001b[1;31m---------------------------------------------------------------------------\u001b[0m",
      "\u001b[1;31mIntegrityError\u001b[0m                            Traceback (most recent call last)",
      "Cell \u001b[1;32mIn[1], line 89\u001b[0m\n\u001b[0;32m     86\u001b[0m create_tables()\n\u001b[0;32m     88\u001b[0m \u001b[38;5;66;03m# Example usage: Inserting a user and a todo item\u001b[39;00m\n\u001b[1;32m---> 89\u001b[0m \u001b[43minsert_user\u001b[49m\u001b[43m(\u001b[49m\u001b[38;5;124;43m'\u001b[39;49m\u001b[38;5;124;43mjohn_doe133\u001b[39;49m\u001b[38;5;124;43m'\u001b[39;49m\u001b[43m,\u001b[49m\u001b[43m \u001b[49m\u001b[38;5;124;43m'\u001b[39;49m\u001b[38;5;124;43mpassword123\u001b[39;49m\u001b[38;5;124;43m'\u001b[39;49m\u001b[43m)\u001b[49m\n\u001b[0;32m     90\u001b[0m insert_todo(\u001b[38;5;124m'\u001b[39m\u001b[38;5;124mFinish project\u001b[39m\u001b[38;5;124m'\u001b[39m, user_id\u001b[38;5;241m=\u001b[39m\u001b[38;5;241m1\u001b[39m)\n\u001b[0;32m     92\u001b[0m \u001b[38;5;66;03m# Fetch and print todos for user with ID 1\u001b[39;00m\n",
      "Cell \u001b[1;32mIn[1], line 60\u001b[0m, in \u001b[0;36minsert_user\u001b[1;34m(username, password)\u001b[0m\n\u001b[0;32m     57\u001b[0m conn \u001b[38;5;241m=\u001b[39m get_db_connection()\n\u001b[0;32m     58\u001b[0m cursor \u001b[38;5;241m=\u001b[39m conn\u001b[38;5;241m.\u001b[39mcursor()\n\u001b[1;32m---> 60\u001b[0m \u001b[43mcursor\u001b[49m\u001b[38;5;241;43m.\u001b[39;49m\u001b[43mexecute\u001b[49m\u001b[43m(\u001b[49m\u001b[38;5;124;43m'\u001b[39;49m\u001b[38;5;124;43mINSERT INTO User (username, password) VALUES (?, ?)\u001b[39;49m\u001b[38;5;124;43m'\u001b[39;49m\u001b[43m,\u001b[49m\u001b[43m \u001b[49m\u001b[43m(\u001b[49m\u001b[43musername\u001b[49m\u001b[43m,\u001b[49m\u001b[43m \u001b[49m\u001b[43mpassword\u001b[49m\u001b[43m)\u001b[49m\u001b[43m)\u001b[49m\n\u001b[0;32m     61\u001b[0m conn\u001b[38;5;241m.\u001b[39mcommit()\n\u001b[0;32m     62\u001b[0m conn\u001b[38;5;241m.\u001b[39mclose()\n",
      "\u001b[1;31mIntegrityError\u001b[0m: UNIQUE constraint failed: User.username"
     ]
    }
   ],
   "source": [
    "import sqlite3\n",
    "DATABASE = 'app.db'\n",
    "\n",
    "\n",
    "# Function to connect to SQLite database\n",
    "def get_db_connection():\n",
    "    conn = sqlite3.connect(DATABASE)\n",
    "    conn.row_factory = sqlite3.Row  # Access rows like dictionaries\n",
    "    return conn\n",
    "\n",
    "# Create the 'User' and 'Todo' tables manually using SQL\n",
    "def create_tables():\n",
    "    conn = get_db_connection()\n",
    "    cursor = conn.cursor()\n",
    "\n",
    "    # Create User table\n",
    "    cursor.execute('''\n",
    "        CREATE TABLE IF NOT EXISTS User (\n",
    "            id INTEGER PRIMARY KEY AUTOINCREMENT,\n",
    "            username TEXT UNIQUE NOT NULL,\n",
    "            password TEXT NOT NULL\n",
    "        )\n",
    "    ''')\n",
    "\n",
    "    # Create Todo table with foreign key linking to the User table\n",
    "    cursor.execute('''\n",
    "        CREATE TABLE IF NOT EXISTS Todo (\n",
    "            id INTEGER PRIMARY KEY AUTOINCREMENT,\n",
    "            task TEXT NOT NULL,\n",
    "            complete BOOLEAN DEFAULT FALSE,\n",
    "            user_id INTEGER NOT NULL,\n",
    "            FOREIGN KEY (user_id) REFERENCES User(id) ON DELETE CASCADE\n",
    "        )\n",
    "    ''')\n",
    "\n",
    "    conn.commit()\n",
    "    conn.close()\n",
    "\n",
    "# Insert a new user into the User table\n",
    "# Insert a new user into the User table, checking if the username already exists\n",
    "def insert_user(username, password):\n",
    "    conn = get_db_connection()\n",
    "    cursor = conn.cursor()\n",
    "\n",
    "    # Check if the username already exists\n",
    "    cursor.execute('SELECT * FROM User WHERE username = ?', (username,))\n",
    "    existing_user = cursor.fetchone()\n",
    "\n",
    "    if existing_user:\n",
    "        print(f\"Error: The username '{username}' is already taken.\")\n",
    "    else:\n",
    "        cursor.execute('INSERT INTO User (username, password) VALUES (?, ?)', (username, password))\n",
    "        conn.commit()\n",
    "        print(f\"User '{username}' created successfully.\")\n",
    "    \n",
    "    conn.close()\n",
    "    conn = get_db_connection()\n",
    "    cursor = conn.cursor()\n",
    "\n",
    "    cursor.execute('INSERT INTO User (username, password) VALUES (?, ?)', (username, password))\n",
    "    conn.commit()\n",
    "    conn.close()\n",
    "\n",
    "# Insert a new todo item into the Todo table\n",
    "def insert_todo(task, user_id, complete=False):\n",
    "    conn = get_db_connection()\n",
    "    cursor = conn.cursor()\n",
    "\n",
    "    cursor.execute('INSERT INTO Todo (task, complete, user_id) VALUES (?, ?, ?)', (task, complete, user_id))\n",
    "    conn.commit()\n",
    "    conn.close()\n",
    "\n",
    "# Query todos for a specific user\n",
    "def get_todos_for_user(user_id):\n",
    "    conn = get_db_connection()\n",
    "    cursor = conn.cursor()\n",
    "\n",
    "    cursor.execute('SELECT * FROM Todo WHERE user_id = ?', (user_id,))\n",
    "    todos = cursor.fetchall()\n",
    "    conn.close()\n",
    "    return todos\n",
    "\n",
    "\n",
    "\n",
    "# Create tables on app startup\n",
    "create_tables()\n",
    "\n",
    "# Example usage: Inserting a user and a todo item\n",
    "insert_user('john_doe133', 'password123')\n",
    "insert_todo('Finish project', user_id=1)\n",
    "    \n",
    "# Fetch and print todos for user with ID 1\n",
    "todos = get_todos_for_user(1)\n",
    "\n",
    "for todo in todos:\n",
    "    print(f\"Task: {todo['task']}, Completed: {todo['complete']}\")\n",
    "\n"
   ]
  },
  {
   "cell_type": "code",
   "execution_count": 3,
   "metadata": {},
   "outputs": [
    {
     "name": "stdout",
     "output_type": "stream",
     "text": [
      "User 'john_doe133' created successfully.\n"
     ]
    },
    {
     "ename": "IntegrityError",
     "evalue": "UNIQUE constraint failed: User.username",
     "output_type": "error",
     "traceback": [
      "\u001b[1;31m---------------------------------------------------------------------------\u001b[0m",
      "\u001b[1;31mIntegrityError\u001b[0m                            Traceback (most recent call last)",
      "Cell \u001b[1;32mIn[3], line 5\u001b[0m\n\u001b[0;32m      2\u001b[0m create_tables()\n\u001b[0;32m      4\u001b[0m \u001b[38;5;66;03m# Example usage: Inserting a user and a todo item\u001b[39;00m\n\u001b[1;32m----> 5\u001b[0m \u001b[43minsert_user\u001b[49m\u001b[43m(\u001b[49m\u001b[38;5;124;43m'\u001b[39;49m\u001b[38;5;124;43mjohn_doe133\u001b[39;49m\u001b[38;5;124;43m'\u001b[39;49m\u001b[43m,\u001b[49m\u001b[43m \u001b[49m\u001b[38;5;124;43m'\u001b[39;49m\u001b[38;5;124;43mpassword123\u001b[39;49m\u001b[38;5;124;43m'\u001b[39;49m\u001b[43m)\u001b[49m\n\u001b[0;32m      6\u001b[0m insert_todo(\u001b[38;5;124m'\u001b[39m\u001b[38;5;124mFinish project\u001b[39m\u001b[38;5;124m'\u001b[39m, user_id\u001b[38;5;241m=\u001b[39m\u001b[38;5;241m1\u001b[39m)\n\u001b[0;32m      8\u001b[0m \u001b[38;5;66;03m# Fetch and print todos for user with ID 1\u001b[39;00m\n",
      "Cell \u001b[1;32mIn[2], line 56\u001b[0m, in \u001b[0;36minsert_user\u001b[1;34m(username, password)\u001b[0m\n\u001b[0;32m     53\u001b[0m conn \u001b[38;5;241m=\u001b[39m get_db_connection()\n\u001b[0;32m     54\u001b[0m cursor \u001b[38;5;241m=\u001b[39m conn\u001b[38;5;241m.\u001b[39mcursor()\n\u001b[1;32m---> 56\u001b[0m \u001b[43mcursor\u001b[49m\u001b[38;5;241;43m.\u001b[39;49m\u001b[43mexecute\u001b[49m\u001b[43m(\u001b[49m\u001b[38;5;124;43m'\u001b[39;49m\u001b[38;5;124;43mINSERT INTO User (username, password) VALUES (?, ?)\u001b[39;49m\u001b[38;5;124;43m'\u001b[39;49m\u001b[43m,\u001b[49m\u001b[43m \u001b[49m\u001b[43m(\u001b[49m\u001b[43musername\u001b[49m\u001b[43m,\u001b[49m\u001b[43m \u001b[49m\u001b[43mpassword\u001b[49m\u001b[43m)\u001b[49m\u001b[43m)\u001b[49m\n\u001b[0;32m     57\u001b[0m conn\u001b[38;5;241m.\u001b[39mcommit()\n\u001b[0;32m     58\u001b[0m conn\u001b[38;5;241m.\u001b[39mclose()\n",
      "\u001b[1;31mIntegrityError\u001b[0m: UNIQUE constraint failed: User.username"
     ]
    }
   ],
   "source": []
  }
 ],
 "metadata": {
  "kernelspec": {
   "display_name": ".venv",
   "language": "python",
   "name": "python3"
  },
  "language_info": {
   "codemirror_mode": {
    "name": "ipython",
    "version": 3
   },
   "file_extension": ".py",
   "mimetype": "text/x-python",
   "name": "python",
   "nbconvert_exporter": "python",
   "pygments_lexer": "ipython3",
   "version": "3.12.6"
  }
 },
 "nbformat": 4,
 "nbformat_minor": 2
}
